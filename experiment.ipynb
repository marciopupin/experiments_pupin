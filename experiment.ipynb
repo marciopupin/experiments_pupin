{
  "nbformat": 4,
  "nbformat_minor": 0,
  "metadata": {
    "colab": {
      "provenance": [],
      "authorship_tag": "ABX9TyPALyRv/wEEo1u+AeEsrbxo",
      "include_colab_link": true
    },
    "kernelspec": {
      "name": "python3",
      "display_name": "Python 3"
    },
    "language_info": {
      "name": "python"
    }
  },
  "cells": [
    {
      "cell_type": "markdown",
      "metadata": {
        "id": "view-in-github",
        "colab_type": "text"
      },
      "source": [
        "<a href=\"https://colab.research.google.com/github/marciopupin/experiments_pupin/blob/main/experiment.ipynb\" target=\"_parent\"><img src=\"https://colab.research.google.com/assets/colab-badge.svg\" alt=\"Open In Colab\"/></a>"
      ]
    },
    {
      "cell_type": "code",
      "execution_count": 6,
      "metadata": {
        "id": "MiJ-xepGVy90"
      },
      "outputs": [],
      "source": [
        "# @title Exploring\n",
        "#code to create a sample as array and calculate its average\n",
        "import numpy as np\n",
        "ys = 200 + np.random.randn(100)\n"
      ]
    },
    {
      "cell_type": "code",
      "source": [
        "\n",
        "\n",
        "\n",
        "# prompt: Create a data frame with two variables, being the first x and the second y. For x, a sequence from 1 to 100. For y, a sequence from 1 to 100 added from a 100 elements in a vector following a normal distribution. Calculate its mean, median and plot it as a dispersion diagram. Then, fit a linear model with y = f(x) and plot the model in the existing diagram.\n",
        "\n",
        "import pandas as pd\n",
        "import matplotlib.pyplot as plt\n",
        "\n",
        "# Create the data frame\n",
        "df = pd.DataFrame({\n",
        "    'x': range(1, 10),\n",
        "    'y': range(1, 10) + np.random.randn(9)\n",
        "})\n",
        "\n",
        "# Calculate the mean and median\n",
        "mean = df['y'].mean()\n",
        "median = df['y'].median()\n",
        "\n",
        "# Plot the dispersion diagram\n",
        "df.plot.scatter(x='x', y='y')\n",
        "\n",
        "# Fit the linear model\n",
        "model = np.polyfit(df['x'], df['y'], 1)\n",
        "predict = np.poly1d(model)\n",
        "\n",
        "# Plot the model\n",
        "plt.plot(df['x'], predict(df['x']), color='red')\n",
        "\n",
        "# Show the plot\n",
        "plt.show()\n",
        "\n",
        "# Print the mean and median\n",
        "print(f\"Mean: {mean}\")\n",
        "print(f\"Median: {median}\")\n"
      ],
      "metadata": {
        "colab": {
          "base_uri": "https://localhost:8080/",
          "height": 483
        },
        "id": "iVjW7br9uBqz",
        "outputId": "5a99c7f6-9767-48ad-f9ce-37af031c19e2"
      },
      "execution_count": 22,
      "outputs": [
        {
          "output_type": "display_data",
          "data": {
            "text/plain": [
              "<Figure size 640x480 with 1 Axes>"
            ],
            "image/png": "[encoded data removed]"
          },
          "metadata": {}
        },
        {
          "output_type": "stream",
          "name": "stdout",
          "text": [
            "Mean: 4.740519845280214\n",
            "Median: 3.249750991031014\n"
          ]
        }
      ]
    },
    {
      "cell_type": "code",
      "source": [
        "import numpy as np\n",
        "help(np.random.randn)"
      ],
      "metadata": {
        "colab": {
          "base_uri": "https://localhost:8080/"
        },
        "id": "JWxvoZFFv_Q-",
        "outputId": "d0823b3d-775d-4ece-d525-4c9775532f8d"
      },
      "execution_count": 15,
      "outputs": [
        {
          "output_type": "stream",
          "name": "stdout",
          "text": [
            "Help on built-in function randn:\n",
            "\n",
            "randn(...) method of numpy.random.mtrand.RandomState instance\n",
            "    randn(d0, d1, ..., dn)\n",
            "    \n",
            "    Return a sample (or samples) from the \"standard normal\" distribution.\n",
            "    \n",
            "    .. note::\n",
            "        This is a convenience function for users porting code from Matlab,\n",
            "        and wraps `standard_normal`. That function takes a\n",
            "        tuple to specify the size of the output, which is consistent with\n",
            "        other NumPy functions like `numpy.zeros` and `numpy.ones`.\n",
            "    \n",
            "    .. note::\n",
            "        New code should use the\n",
            "        `~numpy.random.Generator.standard_normal`\n",
            "        method of a `~numpy.random.Generator` instance instead;\n",
            "        please see the :ref:`random-quick-start`.\n",
            "    \n",
            "    If positive int_like arguments are provided, `randn` generates an array\n",
            "    of shape ``(d0, d1, ..., dn)``, filled\n",
            "    with random floats sampled from a univariate \"normal\" (Gaussian)\n",
            "    distribution of mean 0 and variance 1. A single float randomly sampled\n",
            "    from the distribution is returned if no argument is provided.\n",
            "    \n",
            "    Parameters\n",
            "    ----------\n",
            "    d0, d1, ..., dn : int, optional\n",
            "        The dimensions of the returned array, must be non-negative.\n",
            "        If no argument is given a single Python float is returned.\n",
            "    \n",
            "    Returns\n",
            "    -------\n",
            "    Z : ndarray or float\n",
            "        A ``(d0, d1, ..., dn)``-shaped array of floating-point samples from\n",
            "        the standard normal distribution, or a single such float if\n",
            "        no parameters were supplied.\n",
            "    \n",
            "    See Also\n",
            "    --------\n",
            "    standard_normal : Similar, but takes a tuple as its argument.\n",
            "    normal : Also accepts mu and sigma arguments.\n",
            "    random.Generator.standard_normal: which should be used for new code.\n",
            "    \n",
            "    Notes\n",
            "    -----\n",
            "    For random samples from the normal distribution with mean ``mu`` and\n",
            "    standard deviation ``sigma``, use::\n",
            "    \n",
            "        sigma * np.random.randn(...) + mu\n",
            "    \n",
            "    Examples\n",
            "    --------\n",
            "    >>> np.random.randn()\n",
            "    2.1923875335537315  # random\n",
            "    \n",
            "    Two-by-four array of samples from the normal distribution with\n",
            "    mean 3 and standard deviation 2.5:\n",
            "    \n",
            "    >>> 3 + 2.5 * np.random.randn(2, 4)\n",
            "    array([[-4.49401501,  4.00950034, -1.81814867,  7.29718677],   # random\n",
            "           [ 0.39924804,  4.68456316,  4.99394529,  4.84057254]])  # random\n",
            "\n"
          ]
        }
      ]
    }
  ]
}